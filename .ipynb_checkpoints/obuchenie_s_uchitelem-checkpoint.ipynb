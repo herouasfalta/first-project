{
 "cells": [
  {
   "cell_type": "markdown",
   "metadata": {
    "toc": true
   },
   "source": [
    "<h1>Содержание<span class=\"tocSkip\"></span></h1>\n",
    "<div class=\"toc\"><ul class=\"toc-item\"><li><span><a href=\"#Подготовка-данных\" data-toc-modified-id=\"Подготовка-данных-1\"><span class=\"toc-item-num\">1&nbsp;&nbsp;</span>Подготовка данных</a></span></li><li><span><a href=\"#Исследование-задачи\" data-toc-modified-id=\"Исследование-задачи-2\"><span class=\"toc-item-num\">2&nbsp;&nbsp;</span>Исследование задачи</a></span><ul class=\"toc-item\"><li><span><a href=\"#Изучаю-дисбаланс-классов\" data-toc-modified-id=\"Изучаю-дисбаланс-классов-2.1\"><span class=\"toc-item-num\">2.1&nbsp;&nbsp;</span>Изучаю дисбаланс классов</a></span></li><li><span><a href=\"#Кодирую-данные-столбцов-Geography-и-Gender-методом-OHE\" data-toc-modified-id=\"Кодирую-данные-столбцов-Geography-и-Gender-методом-OHE-2.2\"><span class=\"toc-item-num\">2.2&nbsp;&nbsp;</span>Кодирую данные столбцов Geography и Gender методом OHE</a></span></li><li><span><a href=\"#Масштабирую-признаки-столбцов-CreditScore,-Balance,-EstimatedSalary\" data-toc-modified-id=\"Масштабирую-признаки-столбцов-CreditScore,-Balance,-EstimatedSalary-2.3\"><span class=\"toc-item-num\">2.3&nbsp;&nbsp;</span>Масштабирую признаки столбцов CreditScore, Balance, EstimatedSalary</a></span></li><li><span><a href=\"#Изучаю-модели-без-учета-дисбаланса\" data-toc-modified-id=\"Изучаю-модели-без-учета-дисбаланса-2.4\"><span class=\"toc-item-num\">2.4&nbsp;&nbsp;</span>Изучаю модели без учета дисбаланса</a></span></li></ul></li><li><span><a href=\"#Борьба-с-дисбалансом\" data-toc-modified-id=\"Борьба-с-дисбалансом-3\"><span class=\"toc-item-num\">3&nbsp;&nbsp;</span>Борьба с дисбалансом</a></span></li><li><span><a href=\"#Тестирование-модели\" data-toc-modified-id=\"Тестирование-модели-4\"><span class=\"toc-item-num\">4&nbsp;&nbsp;</span>Тестирование модели</a></span></li></ul></div>"
   ]
  },
  {
   "cell_type": "markdown",
   "metadata": {},
   "source": [
    "# Отток клиентов"
   ]
  },
  {
   "cell_type": "markdown",
   "metadata": {},
   "source": [
    "Из «Бета-Банка» стали уходить клиенты. Каждый месяц. Немного, но заметно. Банковские маркетологи посчитали: сохранять текущих клиентов дешевле, чем привлекать новых.\n",
    "\n",
    "Нужно спрогнозировать, уйдёт клиент из банка в ближайшее время или нет. Вам предоставлены исторические данные о поведении клиентов и расторжении договоров с банком. \n",
    "\n",
    "Постройте модель с предельно большим значением *F1*-меры. Чтобы сдать проект успешно, нужно довести метрику до 0.59. Проверьте *F1*-меру на тестовой выборке самостоятельно.\n",
    "\n",
    "Дополнительно измеряйте *AUC-ROC*, сравнивайте её значение с *F1*-мерой.\n",
    "\n",
    "Источник данных: [https://www.kaggle.com/barelydedicated/bank-customer-churn-modeling](https://www.kaggle.com/barelydedicated/bank-customer-churn-modeling)"
   ]
  },
  {
   "cell_type": "markdown",
   "metadata": {},
   "source": [
    "**Признаки**\n",
    "- RowNumber —индекс строки в данных\n",
    "- CustomerId— уникальный идентификатор клиента\n",
    "- Surname —фамилия\n",
    "- CreditScore —кредитный рейтинг\n",
    "- Geography —страна проживания\n",
    "- Gender —пол\n",
    "- Age —возраст\n",
    "- Tenure —сколько лет человек является клиентом банка\n",
    "- Balance —баланс на счёте\n",
    "- NumOfProducts —количество продуктов банка, используемых клиентом\n",
    "- HasCrCard —наличие кредитной карты\n",
    "- IsActiveMember —активность клиента\n",
    "- EstimatedSalary —предполагаемая зарплата\\\n",
    "\\\n",
    "**Целевой признак**\n",
    "- Exited— факт ухода клиента"
   ]
  },
  {
   "cell_type": "markdown",
   "metadata": {},
   "source": [
    "## Подготовка данных"
   ]
  },
  {
   "cell_type": "code",
   "execution_count": 1,
   "metadata": {},
   "outputs": [],
   "source": [
    "import pandas as pd\n",
    "import random\n",
    "import matplotlib.pyplot as plt\n",
    "from sklearn.model_selection import train_test_split\n",
    "from sklearn.preprocessing import StandardScaler\n",
    "from sklearn.tree import DecisionTreeClassifier\n",
    "from sklearn.metrics import f1_score\n",
    "from sklearn.ensemble import RandomForestClassifier\n",
    "from sklearn.linear_model import LogisticRegression \n",
    "from sklearn.utils import shuffle\n",
    "from sklearn.metrics import roc_curve\n",
    "from sklearn.metrics import roc_auc_score"
   ]
  },
  {
   "cell_type": "code",
   "execution_count": 2,
   "metadata": {},
   "outputs": [
    {
     "name": "stdout",
     "output_type": "stream",
     "text": [
      "<class 'pandas.core.frame.DataFrame'>\n",
      "RangeIndex: 10000 entries, 0 to 9999\n",
      "Data columns (total 14 columns):\n",
      " #   Column           Non-Null Count  Dtype  \n",
      "---  ------           --------------  -----  \n",
      " 0   RowNumber        10000 non-null  int64  \n",
      " 1   CustomerId       10000 non-null  int64  \n",
      " 2   Surname          10000 non-null  object \n",
      " 3   CreditScore      10000 non-null  int64  \n",
      " 4   Geography        10000 non-null  object \n",
      " 5   Gender           10000 non-null  object \n",
      " 6   Age              10000 non-null  int64  \n",
      " 7   Tenure           9091 non-null   float64\n",
      " 8   Balance          10000 non-null  float64\n",
      " 9   NumOfProducts    10000 non-null  int64  \n",
      " 10  HasCrCard        10000 non-null  int64  \n",
      " 11  IsActiveMember   10000 non-null  int64  \n",
      " 12  EstimatedSalary  10000 non-null  float64\n",
      " 13  Exited           10000 non-null  int64  \n",
      "dtypes: float64(3), int64(8), object(3)\n",
      "memory usage: 1.1+ MB\n"
     ]
    },
    {
     "data": {
      "text/html": [
       "<div>\n",
       "<style scoped>\n",
       "    .dataframe tbody tr th:only-of-type {\n",
       "        vertical-align: middle;\n",
       "    }\n",
       "\n",
       "    .dataframe tbody tr th {\n",
       "        vertical-align: top;\n",
       "    }\n",
       "\n",
       "    .dataframe thead th {\n",
       "        text-align: right;\n",
       "    }\n",
       "</style>\n",
       "<table border=\"1\" class=\"dataframe\">\n",
       "  <thead>\n",
       "    <tr style=\"text-align: right;\">\n",
       "      <th></th>\n",
       "      <th>RowNumber</th>\n",
       "      <th>CustomerId</th>\n",
       "      <th>Surname</th>\n",
       "      <th>CreditScore</th>\n",
       "      <th>Geography</th>\n",
       "      <th>Gender</th>\n",
       "      <th>Age</th>\n",
       "      <th>Tenure</th>\n",
       "      <th>Balance</th>\n",
       "      <th>NumOfProducts</th>\n",
       "      <th>HasCrCard</th>\n",
       "      <th>IsActiveMember</th>\n",
       "      <th>EstimatedSalary</th>\n",
       "      <th>Exited</th>\n",
       "    </tr>\n",
       "  </thead>\n",
       "  <tbody>\n",
       "    <tr>\n",
       "      <th>0</th>\n",
       "      <td>1</td>\n",
       "      <td>15634602</td>\n",
       "      <td>Hargrave</td>\n",
       "      <td>619</td>\n",
       "      <td>France</td>\n",
       "      <td>Female</td>\n",
       "      <td>42</td>\n",
       "      <td>2.0</td>\n",
       "      <td>0.00</td>\n",
       "      <td>1</td>\n",
       "      <td>1</td>\n",
       "      <td>1</td>\n",
       "      <td>101348.88</td>\n",
       "      <td>1</td>\n",
       "    </tr>\n",
       "    <tr>\n",
       "      <th>1</th>\n",
       "      <td>2</td>\n",
       "      <td>15647311</td>\n",
       "      <td>Hill</td>\n",
       "      <td>608</td>\n",
       "      <td>Spain</td>\n",
       "      <td>Female</td>\n",
       "      <td>41</td>\n",
       "      <td>1.0</td>\n",
       "      <td>83807.86</td>\n",
       "      <td>1</td>\n",
       "      <td>0</td>\n",
       "      <td>1</td>\n",
       "      <td>112542.58</td>\n",
       "      <td>0</td>\n",
       "    </tr>\n",
       "    <tr>\n",
       "      <th>2</th>\n",
       "      <td>3</td>\n",
       "      <td>15619304</td>\n",
       "      <td>Onio</td>\n",
       "      <td>502</td>\n",
       "      <td>France</td>\n",
       "      <td>Female</td>\n",
       "      <td>42</td>\n",
       "      <td>8.0</td>\n",
       "      <td>159660.80</td>\n",
       "      <td>3</td>\n",
       "      <td>1</td>\n",
       "      <td>0</td>\n",
       "      <td>113931.57</td>\n",
       "      <td>1</td>\n",
       "    </tr>\n",
       "    <tr>\n",
       "      <th>3</th>\n",
       "      <td>4</td>\n",
       "      <td>15701354</td>\n",
       "      <td>Boni</td>\n",
       "      <td>699</td>\n",
       "      <td>France</td>\n",
       "      <td>Female</td>\n",
       "      <td>39</td>\n",
       "      <td>1.0</td>\n",
       "      <td>0.00</td>\n",
       "      <td>2</td>\n",
       "      <td>0</td>\n",
       "      <td>0</td>\n",
       "      <td>93826.63</td>\n",
       "      <td>0</td>\n",
       "    </tr>\n",
       "    <tr>\n",
       "      <th>4</th>\n",
       "      <td>5</td>\n",
       "      <td>15737888</td>\n",
       "      <td>Mitchell</td>\n",
       "      <td>850</td>\n",
       "      <td>Spain</td>\n",
       "      <td>Female</td>\n",
       "      <td>43</td>\n",
       "      <td>2.0</td>\n",
       "      <td>125510.82</td>\n",
       "      <td>1</td>\n",
       "      <td>1</td>\n",
       "      <td>1</td>\n",
       "      <td>79084.10</td>\n",
       "      <td>0</td>\n",
       "    </tr>\n",
       "  </tbody>\n",
       "</table>\n",
       "</div>"
      ],
      "text/plain": [
       "   RowNumber  CustomerId   Surname  CreditScore Geography  Gender  Age  \\\n",
       "0          1    15634602  Hargrave          619    France  Female   42   \n",
       "1          2    15647311      Hill          608     Spain  Female   41   \n",
       "2          3    15619304      Onio          502    France  Female   42   \n",
       "3          4    15701354      Boni          699    France  Female   39   \n",
       "4          5    15737888  Mitchell          850     Spain  Female   43   \n",
       "\n",
       "   Tenure    Balance  NumOfProducts  HasCrCard  IsActiveMember  \\\n",
       "0     2.0       0.00              1          1               1   \n",
       "1     1.0   83807.86              1          0               1   \n",
       "2     8.0  159660.80              3          1               0   \n",
       "3     1.0       0.00              2          0               0   \n",
       "4     2.0  125510.82              1          1               1   \n",
       "\n",
       "   EstimatedSalary  Exited  \n",
       "0        101348.88       1  \n",
       "1        112542.58       0  \n",
       "2        113931.57       1  \n",
       "3         93826.63       0  \n",
       "4         79084.10       0  "
      ]
     },
     "metadata": {},
     "output_type": "display_data"
    }
   ],
   "source": [
    "df = pd.read_csv('D:/DS/Churn.csv')\n",
    "df.info()\n",
    "display (df.head(5))"
   ]
  },
  {
   "cell_type": "markdown",
   "metadata": {},
   "source": [
    "В столбце Tenure явно есть пропуски, изучаю этот столбец подробнее."
   ]
  },
  {
   "cell_type": "code",
   "execution_count": 3,
   "metadata": {},
   "outputs": [
    {
     "name": "stdout",
     "output_type": "stream",
     "text": [
      "[ 2.  1.  8.  7.  4.  6.  3. 10.  5.  9.  0. nan]\n"
     ]
    }
   ],
   "source": [
    "print (df['Tenure'].unique())"
   ]
  },
  {
   "cell_type": "markdown",
   "metadata": {},
   "source": [
    "В столбце Tenure есть пропуски, заполняю их случайными числами. В остальных столбцах могут содержаться важные сведения, поэтому пропущенные значения столбца Tenure не удаляю, а заполняю случайными числами."
   ]
  },
  {
   "cell_type": "code",
   "execution_count": 4,
   "metadata": {
    "scrolled": true
   },
   "outputs": [
    {
     "name": "stdout",
     "output_type": "stream",
     "text": [
      "[ 2.  1.  8.  7.  4.  6.  3. 10.  5.  9.  0.]\n"
     ]
    }
   ],
   "source": [
    "df['Tenure'] = df['Tenure'].fillna(random.randint(0,10))\n",
    "print (df['Tenure'].unique())"
   ]
  },
  {
   "cell_type": "markdown",
   "metadata": {},
   "source": [
    "## Исследование задачи"
   ]
  },
  {
   "cell_type": "markdown",
   "metadata": {},
   "source": [
    "### Изучаю дисбаланс классов"
   ]
  },
  {
   "cell_type": "markdown",
   "metadata": {},
   "source": [
    "Для подсчёта классов в целевом признаке применяю метод value_counts(). Делаю частоты относительными (от 0 до 1). Значения сохраняю в переменной class_frequency. Строю диаграмму."
   ]
  },
  {
   "cell_type": "code",
   "execution_count": 5,
   "metadata": {},
   "outputs": [
    {
     "name": "stdout",
     "output_type": "stream",
     "text": [
      "0    0.7963\n",
      "1    0.2037\n",
      "Name: Exited, dtype: float64\n"
     ]
    },
    {
     "data": {
      "text/plain": [
       "<AxesSubplot:>"
      ]
     },
     "execution_count": 5,
     "metadata": {},
     "output_type": "execute_result"
    },
    {
     "data": {
      "image/png": "[encoded data removed]",
      "text/plain": [
       "<Figure size 640x480 with 1 Axes>"
      ]
     },
     "metadata": {},
     "output_type": "display_data"
    }
   ],
   "source": [
    "class_frequency = df['Exited'].value_counts(normalize=True)\n",
    "print(class_frequency)\n",
    "class_frequency.plot(kind='bar')"
   ]
  },
  {
   "cell_type": "markdown",
   "metadata": {},
   "source": [
    "В целевом признаке наблюдается дисбаланс классов, нулей в 4 раза больше, чем единиц."
   ]
  },
  {
   "cell_type": "markdown",
   "metadata": {},
   "source": [
    "### Кодирую данные столбцов Geography и Gender методом OHE"
   ]
  },
  {
   "cell_type": "code",
   "execution_count": 6,
   "metadata": {},
   "outputs": [
    {
     "name": "stdout",
     "output_type": "stream",
     "text": [
      "['France' 'Spain' 'Germany']\n",
      "['Female' 'Male']\n"
     ]
    }
   ],
   "source": [
    "print (df['Geography'].unique())\n",
    "print (df['Gender'].unique())"
   ]
  },
  {
   "cell_type": "code",
   "execution_count": 7,
   "metadata": {},
   "outputs": [
    {
     "name": "stdout",
     "output_type": "stream",
     "text": [
      "   RowNumber  CustomerId   Surname  CreditScore  Age  Tenure    Balance  \\\n",
      "0          1    15634602  Hargrave          619   42     2.0       0.00   \n",
      "1          2    15647311      Hill          608   41     1.0   83807.86   \n",
      "2          3    15619304      Onio          502   42     8.0  159660.80   \n",
      "3          4    15701354      Boni          699   39     1.0       0.00   \n",
      "4          5    15737888  Mitchell          850   43     2.0  125510.82   \n",
      "\n",
      "   NumOfProducts  HasCrCard  IsActiveMember  EstimatedSalary  Exited  \\\n",
      "0              1          1               1        101348.88       1   \n",
      "1              1          0               1        112542.58       0   \n",
      "2              3          1               0        113931.57       1   \n",
      "3              2          0               0         93826.63       0   \n",
      "4              1          1               1         79084.10       0   \n",
      "\n",
      "   Geography_Germany  Geography_Spain  Gender_Male  \n",
      "0                  0                0            0  \n",
      "1                  0                1            0  \n",
      "2                  0                0            0  \n",
      "3                  0                0            0  \n",
      "4                  0                1            0  \n"
     ]
    }
   ],
   "source": [
    "df_ohe =  pd.get_dummies(df, columns=['Geography', 'Gender'], drop_first=True)\n",
    "print (df_ohe.head(5))"
   ]
  },
  {
   "cell_type": "markdown",
   "metadata": {},
   "source": [
    "**Разбиваю данные на выборки в соотношении 60-20-20.**"
   ]
  },
  {
   "cell_type": "code",
   "execution_count": 8,
   "metadata": {
    "scrolled": true
   },
   "outputs": [],
   "source": [
    "df_train, df_valid = train_test_split(df_ohe, test_size=0.4, random_state=12345) #сначала делю данные 60-40%\n",
    "df_valid, df_test = train_test_split(df_valid, test_size=0.5, random_state=12345) #беру 40% и делю их пополам \n",
    "\n",
    "features_train = df_train.drop(['Exited', 'Surname', 'RowNumber', 'CustomerId'], axis=1)\n",
    "target_train = df_train['Exited']\n",
    "\n",
    "features_valid = df_valid.drop(['Exited', 'Surname', 'RowNumber', 'CustomerId'], axis=1)\n",
    "target_valid = df_valid['Exited']\n",
    "\n",
    "features_test = df_test.drop(['Exited', 'Surname', 'RowNumber', 'CustomerId'], axis=1)\n",
    "target_test = df_test['Exited']"
   ]
  },
  {
   "cell_type": "markdown",
   "metadata": {},
   "source": [
    "### Масштабирую признаки столбцов CreditScore, Balance, EstimatedSalary"
   ]
  },
  {
   "cell_type": "code",
   "execution_count": 9,
   "metadata": {},
   "outputs": [
    {
     "name": "stdout",
     "output_type": "stream",
     "text": [
      "(6000, 11)\n"
     ]
    },
    {
     "data": {
      "text/html": [
       "<div>\n",
       "<style scoped>\n",
       "    .dataframe tbody tr th:only-of-type {\n",
       "        vertical-align: middle;\n",
       "    }\n",
       "\n",
       "    .dataframe tbody tr th {\n",
       "        vertical-align: top;\n",
       "    }\n",
       "\n",
       "    .dataframe thead th {\n",
       "        text-align: right;\n",
       "    }\n",
       "</style>\n",
       "<table border=\"1\" class=\"dataframe\">\n",
       "  <thead>\n",
       "    <tr style=\"text-align: right;\">\n",
       "      <th></th>\n",
       "      <th>CreditScore</th>\n",
       "      <th>Age</th>\n",
       "      <th>Tenure</th>\n",
       "      <th>Balance</th>\n",
       "      <th>NumOfProducts</th>\n",
       "      <th>HasCrCard</th>\n",
       "      <th>IsActiveMember</th>\n",
       "      <th>EstimatedSalary</th>\n",
       "      <th>Geography_Germany</th>\n",
       "      <th>Geography_Spain</th>\n",
       "      <th>Gender_Male</th>\n",
       "    </tr>\n",
       "  </thead>\n",
       "  <tbody>\n",
       "    <tr>\n",
       "      <th>7479</th>\n",
       "      <td>-0.886751</td>\n",
       "      <td>35</td>\n",
       "      <td>8.0</td>\n",
       "      <td>1.232271</td>\n",
       "      <td>1</td>\n",
       "      <td>1</td>\n",
       "      <td>0</td>\n",
       "      <td>-0.187705</td>\n",
       "      <td>0</td>\n",
       "      <td>1</td>\n",
       "      <td>1</td>\n",
       "    </tr>\n",
       "    <tr>\n",
       "      <th>3411</th>\n",
       "      <td>0.608663</td>\n",
       "      <td>37</td>\n",
       "      <td>8.0</td>\n",
       "      <td>0.600563</td>\n",
       "      <td>1</td>\n",
       "      <td>0</td>\n",
       "      <td>0</td>\n",
       "      <td>-0.333945</td>\n",
       "      <td>0</td>\n",
       "      <td>0</td>\n",
       "      <td>0</td>\n",
       "    </tr>\n",
       "    <tr>\n",
       "      <th>6027</th>\n",
       "      <td>2.052152</td>\n",
       "      <td>44</td>\n",
       "      <td>3.0</td>\n",
       "      <td>1.027098</td>\n",
       "      <td>2</td>\n",
       "      <td>0</td>\n",
       "      <td>1</td>\n",
       "      <td>1.503095</td>\n",
       "      <td>1</td>\n",
       "      <td>0</td>\n",
       "      <td>1</td>\n",
       "    </tr>\n",
       "    <tr>\n",
       "      <th>1247</th>\n",
       "      <td>-1.457915</td>\n",
       "      <td>24</td>\n",
       "      <td>6.0</td>\n",
       "      <td>-1.233163</td>\n",
       "      <td>2</td>\n",
       "      <td>1</td>\n",
       "      <td>0</td>\n",
       "      <td>-1.071061</td>\n",
       "      <td>0</td>\n",
       "      <td>0</td>\n",
       "      <td>1</td>\n",
       "    </tr>\n",
       "    <tr>\n",
       "      <th>3716</th>\n",
       "      <td>0.130961</td>\n",
       "      <td>27</td>\n",
       "      <td>2.0</td>\n",
       "      <td>1.140475</td>\n",
       "      <td>1</td>\n",
       "      <td>0</td>\n",
       "      <td>0</td>\n",
       "      <td>1.524268</td>\n",
       "      <td>1</td>\n",
       "      <td>0</td>\n",
       "      <td>0</td>\n",
       "    </tr>\n",
       "  </tbody>\n",
       "</table>\n",
       "</div>"
      ],
      "text/plain": [
       "      CreditScore  Age  Tenure   Balance  NumOfProducts  HasCrCard  \\\n",
       "7479    -0.886751   35     8.0  1.232271              1          1   \n",
       "3411     0.608663   37     8.0  0.600563              1          0   \n",
       "6027     2.052152   44     3.0  1.027098              2          0   \n",
       "1247    -1.457915   24     6.0 -1.233163              2          1   \n",
       "3716     0.130961   27     2.0  1.140475              1          0   \n",
       "\n",
       "      IsActiveMember  EstimatedSalary  Geography_Germany  Geography_Spain  \\\n",
       "7479               0        -0.187705                  0                1   \n",
       "3411               0        -0.333945                  0                0   \n",
       "6027               1         1.503095                  1                0   \n",
       "1247               0        -1.071061                  0                0   \n",
       "3716               0         1.524268                  1                0   \n",
       "\n",
       "      Gender_Male  \n",
       "7479            1  \n",
       "3411            0  \n",
       "6027            1  \n",
       "1247            1  \n",
       "3716            0  "
      ]
     },
     "metadata": {},
     "output_type": "display_data"
    }
   ],
   "source": [
    "numeric = ['CreditScore', 'Balance', 'EstimatedSalary']\n",
    "\n",
    "scaler = StandardScaler()\n",
    "scaler.fit(features_train[numeric])\n",
    "features_train[numeric] = scaler.transform(features_train[numeric])\n",
    "features_valid[numeric] = scaler.transform(features_valid[numeric])\n",
    "features_test[numeric] = scaler.transform(features_test[numeric])\n",
    "\n",
    "print(features_train.shape)\n",
    "display (features_train.head(5))"
   ]
  },
  {
   "cell_type": "markdown",
   "metadata": {},
   "source": [
    "### Изучаю модели без учета дисбаланса"
   ]
  },
  {
   "cell_type": "markdown",
   "metadata": {},
   "source": [
    "**Изучаю модель решающего дерева**"
   ]
  },
  {
   "cell_type": "markdown",
   "metadata": {},
   "source": [
    "Нахожу оптимальную глубину решающего дерева"
   ]
  },
  {
   "cell_type": "code",
   "execution_count": 10,
   "metadata": {},
   "outputs": [
    {
     "name": "stdout",
     "output_type": "stream",
     "text": [
      "F1 наилучшей модели на валидационной выборке: 0.5754583921015515\n",
      "DecisionTreeClassifier(max_depth=9, random_state=12345)\n"
     ]
    }
   ],
   "source": [
    "model = DecisionTreeClassifier(random_state=12345)\n",
    "model.fit(features_train, target_train)\n",
    "\n",
    "predictions_train = model.predict(features_train)\n",
    "predictions_test = model.predict(features_test)\n",
    "\n",
    "best_model = None\n",
    "best_result = 0\n",
    "f1_tree = []\n",
    "depth_tree = []\n",
    "for depth in range (1, 60):\n",
    "    model = DecisionTreeClassifier(random_state=12345, max_depth=depth)\n",
    "    model.fit(features_train, target_train)\n",
    "    predictions_valid = model.predict(features_valid)\n",
    "    result = f1_score(target_valid, predictions_valid)\n",
    "    f1_tree.append(result)\n",
    "    depth_tree.append(depth)\n",
    "    if result > best_result:\n",
    "        best_model = model\n",
    "        best_result = result\n",
    "        \n",
    "print(\"F1 наилучшей модели на валидационной выборке:\", best_result)\n",
    "print (best_model)\n",
    "#print (f1_tree)\n",
    "#print (depth_tree)"
   ]
  },
  {
   "cell_type": "code",
   "execution_count": 11,
   "metadata": {},
   "outputs": [
    {
     "data": {
      "image/png": "[encoded data removed]",
      "text/plain": [
       "<Figure size 640x480 with 1 Axes>"
      ]
     },
     "metadata": {},
     "output_type": "display_data"
    }
   ],
   "source": [
    "plt.plot(depth_tree, f1_tree)\n",
    "plt.show()"
   ]
  },
  {
   "cell_type": "markdown",
   "metadata": {},
   "source": [
    "Оптимальная глубина решающего дерева max_depth=9. С увеличением глубины метрика F1 сначала ухудшается, а потом перестает меняться."
   ]
  },
  {
   "cell_type": "markdown",
   "metadata": {},
   "source": [
    "**Строю ROC кривую для решающего дерева и рассчитываю AUC-ROC (насколько сильно модель отличается от случайной)**"
   ]
  },
  {
   "cell_type": "code",
   "execution_count": 12,
   "metadata": {},
   "outputs": [
    {
     "data": {
      "image/png": "[encoded data removed]",
      "text/plain": [
       "<Figure size 640x480 with 1 Axes>"
      ]
     },
     "metadata": {},
     "output_type": "display_data"
    },
    {
     "name": "stdout",
     "output_type": "stream",
     "text": [
      "0.6793638359777158\n"
     ]
    }
   ],
   "source": [
    "probabilities_valid = model.predict_proba(features_valid)\n",
    "probabilities_one_valid = probabilities_valid[:, 1]\n",
    "\n",
    "fpr, tpr, thresholds = roc_curve(target_valid, probabilities_one_valid)\n",
    "\n",
    "plt.figure()\n",
    "plt.plot(fpr, tpr)\n",
    "\n",
    "# ROC-кривая случайной модели\n",
    "plt.plot([0, 1], [0, 1], linestyle='--')\n",
    "plt.xlim([0.0, 1.0])\n",
    "plt.ylim([0.0, 1.0])\n",
    "plt.xlabel('False Positive Rate')\n",
    "plt.ylabel('True Positive Rate')\n",
    "plt.title('ROC-кривая')\n",
    "plt.show()\n",
    "\n",
    "#рассчитываю AUC-ROC\n",
    "auc_roc = roc_auc_score(target_valid, probabilities_one_valid, multi_class='ovr')\n",
    "\n",
    "print(auc_roc)"
   ]
  },
  {
   "cell_type": "markdown",
   "metadata": {},
   "source": [
    "Из графика видно, что модель работает и отличается от случайной."
   ]
  },
  {
   "cell_type": "markdown",
   "metadata": {},
   "source": [
    "**Исследую алгоритм классификации Случайный лес**"
   ]
  },
  {
   "cell_type": "markdown",
   "metadata": {},
   "source": [
    "Нахожу оптимальное количество деревьев и их глубину"
   ]
  },
  {
   "cell_type": "code",
   "execution_count": 13,
   "metadata": {},
   "outputs": [
    {
     "name": "stdout",
     "output_type": "stream",
     "text": [
      "F1 наилучшей модели на валидационной выборке: 0.5969738651994497\n",
      "Какие гиперпараметры дали наилучший результат: RandomForestClassifier(max_depth=17, n_estimators=7, random_state=12345)\n",
      "Wall time: 24 s\n"
     ]
    }
   ],
   "source": [
    "%%time\n",
    "\n",
    "best_model = None\n",
    "best_result = 0\n",
    "for est in range(1, 20):\n",
    "    for depth in range(1, 20):\n",
    "        model = RandomForestClassifier(random_state=12345, n_estimators=est, max_depth=depth)\n",
    "        model.fit(features_train, target_train)\n",
    "        predictions_valid = model.predict(features_valid)\n",
    "        result = f1_score(target_valid, predictions_valid)\n",
    "        if result > best_result:\n",
    "            best_model = model\n",
    "            best_result = result\n",
    "\n",
    "print(\"F1 наилучшей модели на валидационной выборке:\", best_result)\n",
    "print (\"Какие гиперпараметры дали наилучший результат:\", best_model)"
   ]
  },
  {
   "cell_type": "markdown",
   "metadata": {},
   "source": [
    "**Строю ROC кривую для случайного леса и рассчитываю AUC-ROC (насколько сильно модель отличается от случайной)**"
   ]
  },
  {
   "cell_type": "code",
   "execution_count": 14,
   "metadata": {},
   "outputs": [
    {
     "data": {
      "image/png": "[encoded data removed]",
      "text/plain": [
       "<Figure size 640x480 with 1 Axes>"
      ]
     },
     "metadata": {},
     "output_type": "display_data"
    },
    {
     "name": "stdout",
     "output_type": "stream",
     "text": [
      "0.8218792153352004\n"
     ]
    }
   ],
   "source": [
    "probabilities_valid = model.predict_proba(features_valid)\n",
    "probabilities_one_valid = probabilities_valid[:, 1]\n",
    "\n",
    "fpr, tpr, thresholds = roc_curve(target_valid, probabilities_one_valid)\n",
    "\n",
    "plt.figure()\n",
    "plt.plot(fpr, tpr)\n",
    "\n",
    "# ROC-кривая случайной модели\n",
    "plt.plot([0, 1], [0, 1], linestyle='--')\n",
    "plt.xlim([0.0, 1.0])\n",
    "plt.ylim([0.0, 1.0])\n",
    "plt.xlabel('False Positive Rate')\n",
    "plt.ylabel('True Positive Rate')\n",
    "plt.title('ROC-кривая')\n",
    "plt.show()\n",
    "\n",
    "#рассчитываю AUC-ROC\n",
    "auc_roc = roc_auc_score(target_valid, probabilities_one_valid, multi_class='ovr')\n",
    "\n",
    "print(auc_roc)"
   ]
  },
  {
   "cell_type": "markdown",
   "metadata": {},
   "source": [
    "Из графика видно, что модель работает и сильно отличается от случайной."
   ]
  },
  {
   "cell_type": "markdown",
   "metadata": {},
   "source": [
    "**Исследую модель логистической регрессии**"
   ]
  },
  {
   "cell_type": "code",
   "execution_count": 15,
   "metadata": {},
   "outputs": [
    {
     "name": "stdout",
     "output_type": "stream",
     "text": [
      "F1: 0.33389544688026984\n"
     ]
    }
   ],
   "source": [
    "model = LogisticRegression(random_state=12345, solver='lbfgs', max_iter=1000)\n",
    "model.fit(features_train, target_train)\n",
    "predictions_valid = model.predict(features_valid)\n",
    "f1 = f1_score(target_valid, predictions_valid)\n",
    "print ('F1:', f1)"
   ]
  },
  {
   "cell_type": "markdown",
   "metadata": {},
   "source": [
    "**Строю ROC кривую для логистической регрессии и рассчитываю AUC-ROC (насколько сильно модель отличается от случайной)**"
   ]
  },
  {
   "cell_type": "code",
   "execution_count": 16,
   "metadata": {},
   "outputs": [
    {
     "data": {
      "image/png": "[encoded data removed]",
      "text/plain": [
       "<Figure size 640x480 with 1 Axes>"
      ]
     },
     "metadata": {},
     "output_type": "display_data"
    },
    {
     "name": "stdout",
     "output_type": "stream",
     "text": [
      "0.7587830194956416\n"
     ]
    }
   ],
   "source": [
    "probabilities_valid = model.predict_proba(features_valid)\n",
    "probabilities_one_valid = probabilities_valid[:, 1]\n",
    "\n",
    "fpr, tpr, thresholds = roc_curve(target_valid, probabilities_one_valid)\n",
    "\n",
    "plt.figure()\n",
    "plt.plot(fpr, tpr)\n",
    "\n",
    "# ROC-кривая случайной модели\n",
    "plt.plot([0, 1], [0, 1], linestyle='--')\n",
    "plt.xlim([0.0, 1.0])\n",
    "plt.ylim([0.0, 1.0])\n",
    "plt.xlabel('False Positive Rate')\n",
    "plt.ylabel('True Positive Rate')\n",
    "plt.title('ROC-кривая')\n",
    "plt.show()\n",
    "\n",
    "#рассчитываю AUC-ROC\n",
    "auc_roc = roc_auc_score(target_valid, probabilities_one_valid, multi_class='ovr')\n",
    "\n",
    "print(auc_roc)"
   ]
  },
  {
   "cell_type": "markdown",
   "metadata": {},
   "source": [
    "Из графика видно, что модель работает, и отличается от случайной."
   ]
  },
  {
   "cell_type": "markdown",
   "metadata": {},
   "source": [
    "## Борьба с дисбалансом"
   ]
  },
  {
   "cell_type": "markdown",
   "metadata": {},
   "source": [
    "### Увеличиваю выборку для борьбы с дисбалансом"
   ]
  },
  {
   "cell_type": "code",
   "execution_count": 17,
   "metadata": {},
   "outputs": [
    {
     "name": "stdout",
     "output_type": "stream",
     "text": [
      "(9588, 11)\n",
      "(9588,)\n"
     ]
    }
   ],
   "source": [
    "def upsample (features, target, repeat):\n",
    "    features_zeros = features_train[target_train == 0]\n",
    "    features_ones = features_train[target_train == 1]\n",
    "    target_zeros = target_train[target_train == 0]\n",
    "    target_ones = target_train[target_train == 1]\n",
    "    repeat = 4\n",
    "    features_upsampled = pd.concat([features_zeros] + [features_ones] * repeat)\n",
    "    target_upsampled = pd.concat([target_zeros] + [target_ones] * repeat)\n",
    "    features_upsampled = shuffle (features_upsampled, random_state=12345)\n",
    "    target_upsampled = shuffle (target_upsampled, random_state=12345)\n",
    "    return features_upsampled, target_upsampled\n",
    "    \n",
    "features_upsampled, target_upsampled = upsample(features_train, target_train, 4)\n",
    "\n",
    "print(features_upsampled.shape)\n",
    "print(target_upsampled.shape)"
   ]
  },
  {
   "cell_type": "markdown",
   "metadata": {},
   "source": [
    "**Запускаю модель случайного леса на увеличенной выборке**"
   ]
  },
  {
   "cell_type": "code",
   "execution_count": 18,
   "metadata": {},
   "outputs": [
    {
     "name": "stdout",
     "output_type": "stream",
     "text": [
      "F1 наилучшей модели на валидационной выборке: 0.6150753768844222\n",
      "Какие гиперпараметры дали наилучший результат: RandomForestClassifier(max_depth=7, n_estimators=14, random_state=12345)\n",
      "Wall time: 6.97 s\n"
     ]
    }
   ],
   "source": [
    "%%time\n",
    "\n",
    "best_model = None\n",
    "best_result = 0\n",
    "for est in range(1, 15):\n",
    "    for depth in range(1, 11):\n",
    "        model = RandomForestClassifier(random_state=12345, n_estimators=est, max_depth=depth)\n",
    "        model.fit(features_upsampled, target_upsampled)\n",
    "        predictions_valid = model.predict(features_valid)\n",
    "        result = f1_score(target_valid, predictions_valid)\n",
    "        if result > best_result:\n",
    "            best_model = model\n",
    "            best_result = result\n",
    "\n",
    "print(\"F1 наилучшей модели на валидационной выборке:\", best_result)\n",
    "print (\"Какие гиперпараметры дали наилучший результат:\", best_model)"
   ]
  },
  {
   "cell_type": "markdown",
   "metadata": {},
   "source": [
    "В результате увеличения выборки F1 увеличилось."
   ]
  },
  {
   "cell_type": "markdown",
   "metadata": {},
   "source": [
    "**Строю ROC кривую для модели случайного леса на увеличенной выборке и рассчитываю AUC-ROC (насколько сильно модель отличается от случайной)**"
   ]
  },
  {
   "cell_type": "code",
   "execution_count": 19,
   "metadata": {},
   "outputs": [
    {
     "data": {
      "image/png": "[encoded data removed]",
      "text/plain": [
       "<Figure size 640x480 with 1 Axes>"
      ]
     },
     "metadata": {},
     "output_type": "display_data"
    },
    {
     "name": "stdout",
     "output_type": "stream",
     "text": [
      "0.8402376617327711\n"
     ]
    }
   ],
   "source": [
    "probabilities_valid = model.predict_proba(features_valid)\n",
    "probabilities_one_valid = probabilities_valid[:, 1]\n",
    "\n",
    "fpr, tpr, thresholds = roc_curve(target_valid, probabilities_one_valid)\n",
    "\n",
    "plt.figure()\n",
    "plt.plot(fpr, tpr)\n",
    "\n",
    "# ROC-кривая случайной модели\n",
    "plt.plot([0, 1], [0, 1], linestyle='--')\n",
    "plt.xlim([0.0, 1.0])\n",
    "plt.ylim([0.0, 1.0])\n",
    "plt.xlabel('False Positive Rate')\n",
    "plt.ylabel('True Positive Rate')\n",
    "plt.title('ROC-кривая')\n",
    "plt.show()\n",
    "\n",
    "#рассчитываю AUC-ROC\n",
    "auc_roc = roc_auc_score(target_valid, probabilities_one_valid, multi_class='ovr')\n",
    "\n",
    "print(auc_roc)"
   ]
  },
  {
   "cell_type": "markdown",
   "metadata": {},
   "source": [
    "Из графика видно, что модель работает, и отличается от случайной."
   ]
  },
  {
   "cell_type": "markdown",
   "metadata": {},
   "source": [
    "### Уменьшаю выборку для борьбы с дисбалансом"
   ]
  },
  {
   "cell_type": "code",
   "execution_count": 20,
   "metadata": {},
   "outputs": [
    {
     "name": "stdout",
     "output_type": "stream",
     "text": [
      "(2397, 11)\n",
      "(2397,)\n"
     ]
    }
   ],
   "source": [
    "def downsample(features, target, fraction):\n",
    "    features_zeros = features[target == 0]\n",
    "    features_ones = features[target == 1]\n",
    "    target_zeros = target[target == 0]\n",
    "    target_ones = target[target == 1]\n",
    "    features_downsampled = pd.concat([features_zeros.sample(frac=fraction, random_state=12345)] + [features_ones])\n",
    "    target_downsampled = pd.concat([target_zeros.sample(frac=fraction, random_state=12345)] + [target_ones])\n",
    "    features_downsampled, target_downsampled = shuffle(features_downsampled, target_downsampled, random_state=12345)\n",
    "    return features_downsampled, target_downsampled\n",
    "\n",
    "features_downsampled, target_downsampled = downsample(features_train, target_train, 0.25)\n",
    "\n",
    "print(features_downsampled.shape)\n",
    "print(target_downsampled.shape)"
   ]
  },
  {
   "cell_type": "markdown",
   "metadata": {},
   "source": [
    "**Запускаю модель случайного леса на уменьшенной выборке**"
   ]
  },
  {
   "cell_type": "code",
   "execution_count": 21,
   "metadata": {},
   "outputs": [
    {
     "name": "stdout",
     "output_type": "stream",
     "text": [
      "F1 наилучшей модели на валидационной выборке: 0.6071085494716619\n",
      "Какие гиперпараметры дали наилучший результат: RandomForestClassifier(max_depth=7, n_estimators=13, random_state=12345)\n",
      "Wall time: 3.68 s\n"
     ]
    }
   ],
   "source": [
    "%%time\n",
    "\n",
    "best_model = None\n",
    "best_result = 0\n",
    "for est in range(1, 15):\n",
    "    for depth in range(1, 11):\n",
    "        model = RandomForestClassifier(random_state=12345, n_estimators=est, max_depth=depth)\n",
    "        model.fit(features_downsampled, target_downsampled)\n",
    "        predictions_valid = model.predict(features_valid)\n",
    "        result = f1_score(target_valid, predictions_valid)\n",
    "        if result > best_result:\n",
    "            best_model = model\n",
    "            best_result = result\n",
    "\n",
    "print(\"F1 наилучшей модели на валидационной выборке:\", best_result)\n",
    "print (\"Какие гиперпараметры дали наилучший результат:\", best_model)"
   ]
  },
  {
   "cell_type": "markdown",
   "metadata": {},
   "source": [
    "В результате уменьшения выборки F1 увеличилось по сравнению с выборкой до ее уменьшения, но метод увеличения выборки дал лучший результат."
   ]
  },
  {
   "cell_type": "markdown",
   "metadata": {},
   "source": [
    "**Строю ROC кривую для модели случайного леса на уменьшенной выборке и рассчитываю AUC-ROC (насколько сильно модель отличается от случайной)**"
   ]
  },
  {
   "cell_type": "code",
   "execution_count": 22,
   "metadata": {},
   "outputs": [
    {
     "data": {
      "image/png": "[encoded data removed]",
      "text/plain": [
       "<Figure size 640x480 with 1 Axes>"
      ]
     },
     "metadata": {},
     "output_type": "display_data"
    },
    {
     "name": "stdout",
     "output_type": "stream",
     "text": [
      "0.8332277294200908\n"
     ]
    }
   ],
   "source": [
    "probabilities_valid = model.predict_proba(features_valid)\n",
    "probabilities_one_valid = probabilities_valid[:, 1]\n",
    "\n",
    "fpr, tpr, thresholds = roc_curve(target_valid, probabilities_one_valid)\n",
    "\n",
    "plt.figure()\n",
    "plt.plot(fpr, tpr)\n",
    "\n",
    "# ROC-кривая случайной модели\n",
    "plt.plot([0, 1], [0, 1], linestyle='--')\n",
    "plt.xlim([0.0, 1.0])\n",
    "plt.ylim([0.0, 1.0])\n",
    "plt.xlabel('False Positive Rate')\n",
    "plt.ylabel('True Positive Rate')\n",
    "plt.title('ROC-кривая')\n",
    "plt.show()\n",
    "\n",
    "#рассчитываю AUC-ROC\n",
    "auc_roc = roc_auc_score(target_valid, probabilities_one_valid, multi_class='ovr')\n",
    "\n",
    "print(auc_roc)"
   ]
  },
  {
   "cell_type": "markdown",
   "metadata": {},
   "source": [
    "Из графика видно, что модель работает, и отличается от случайной."
   ]
  },
  {
   "cell_type": "markdown",
   "metadata": {},
   "source": [
    "## Тестирование модели"
   ]
  },
  {
   "cell_type": "markdown",
   "metadata": {},
   "source": [
    "### Объединяю тренировочные и валидационные данные"
   ]
  },
  {
   "cell_type": "code",
   "execution_count": 23,
   "metadata": {},
   "outputs": [],
   "source": [
    "features_train_valid = pd.concat([features_upsampled, features_valid])\n",
    "target_train_valid = pd.concat([target_upsampled, target_valid])"
   ]
  },
  {
   "cell_type": "code",
   "execution_count": 24,
   "metadata": {},
   "outputs": [
    {
     "name": "stdout",
     "output_type": "stream",
     "text": [
      "(11588, 11)\n",
      "(11588,)\n"
     ]
    }
   ],
   "source": [
    "print (features_train_valid.shape)\n",
    "print (target_train_valid.shape)"
   ]
  },
  {
   "cell_type": "markdown",
   "metadata": {},
   "source": [
    "### Проверяю на тестовой выборке модель случайного леса"
   ]
  },
  {
   "cell_type": "code",
   "execution_count": 25,
   "metadata": {},
   "outputs": [
    {
     "name": "stdout",
     "output_type": "stream",
     "text": [
      "F1 тестовой выборки случайного леса 0.6170212765957447\n"
     ]
    }
   ],
   "source": [
    "model = RandomForestClassifier(max_depth=7, n_estimators=13, random_state=12345)\n",
    "model.fit(features_train_valid, target_train_valid)\n",
    "predictions = model.predict(features_test)\n",
    "\n",
    "f1 = f1_score(target_test, predictions)\n",
    "print ('F1 тестовой выборки случайного леса', f1)"
   ]
  },
  {
   "cell_type": "markdown",
   "metadata": {},
   "source": [
    "**Строю ROC кривую для модели случайного леса на тестовой выборке и рассчитываю AUC-ROC (насколько сильно модель отличается от случайной)**"
   ]
  },
  {
   "cell_type": "code",
   "execution_count": 26,
   "metadata": {
    "scrolled": true
   },
   "outputs": [
    {
     "data": {
      "image/png": "[encoded data removed]",
      "text/plain": [
       "<Figure size 640x480 with 1 Axes>"
      ]
     },
     "metadata": {},
     "output_type": "display_data"
    },
    {
     "name": "stdout",
     "output_type": "stream",
     "text": [
      "0.8737017523696611\n"
     ]
    }
   ],
   "source": [
    "probabilities_valid = model.predict_proba(features_valid)\n",
    "probabilities_one_valid = probabilities_valid[:, 1]\n",
    "\n",
    "fpr, tpr, thresholds = roc_curve(target_valid, probabilities_one_valid)\n",
    "\n",
    "plt.figure()\n",
    "plt.plot(fpr, tpr)\n",
    "\n",
    "# ROC-кривая случайной модели\n",
    "plt.plot([0, 1], [0, 1], linestyle='--')\n",
    "plt.xlim([0.0, 1.0])\n",
    "plt.ylim([0.0, 1.0])\n",
    "plt.xlabel('False Positive Rate')\n",
    "plt.ylabel('True Positive Rate')\n",
    "plt.title('ROC-кривая')\n",
    "plt.show()\n",
    "\n",
    "#рассчитываю AUC-ROC\n",
    "auc_roc = roc_auc_score(target_valid, probabilities_one_valid, multi_class='ovr')\n",
    "\n",
    "print(auc_roc)"
   ]
  },
  {
   "cell_type": "markdown",
   "metadata": {},
   "source": [
    "Из графика видно, что модель работает, и отличается от случайной."
   ]
  },
  {
   "cell_type": "markdown",
   "metadata": {},
   "source": [
    "### Строю график, показывающий какие факторы оказывают наибольшее влияние на модель"
   ]
  },
  {
   "cell_type": "code",
   "execution_count": 27,
   "metadata": {},
   "outputs": [
    {
     "data": {
      "text/plain": [
       "<AxesSubplot:>"
      ]
     },
     "execution_count": 27,
     "metadata": {},
     "output_type": "execute_result"
    },
    {
     "data": {
      "image/png": "[encoded data removed]",
      "text/plain": [
       "<Figure size 640x480 with 1 Axes>"
      ]
     },
     "metadata": {},
     "output_type": "display_data"
    }
   ],
   "source": [
    "feat_importances = pd.Series(model.feature_importances_, index=features_train_valid.columns)\n",
    "feat_importances.nlargest(20).plot(kind='barh')"
   ]
  },
  {
   "cell_type": "markdown",
   "metadata": {},
   "source": [
    "Наибольшее влияние на модель оказывают такие факторы как \"NumOfProducts\" (\"Количество продуктов, используемых клиентами\") и \"Age\" (\"Возраст\") клиентов."
   ]
  },
  {
   "cell_type": "markdown",
   "metadata": {},
   "source": [
    "**Строю график, показывающий распределение клиентов банка по возрасту**"
   ]
  },
  {
   "cell_type": "code",
   "execution_count": 28,
   "metadata": {
    "scrolled": true
   },
   "outputs": [
    {
     "data": {
      "text/plain": [
       "<AxesSubplot:>"
      ]
     },
     "execution_count": 28,
     "metadata": {},
     "output_type": "execute_result"
    },
    {
     "data": {
      "image/png": "[encoded data removed]",
      "text/plain": [
       "<Figure size 640x480 with 1 Axes>"
      ]
     },
     "metadata": {},
     "output_type": "display_data"
    }
   ],
   "source": [
    "df['Age'].hist()"
   ]
  },
  {
   "cell_type": "markdown",
   "metadata": {},
   "source": [
    "Наибольшее количество клиентов банка составляю люди в возрасте от 30 до 40 лет."
   ]
  },
  {
   "cell_type": "markdown",
   "metadata": {},
   "source": [
    "**Строю график, показывающий зависимость между возрастом клиентов банка и количеством используемых продуктов банка**"
   ]
  },
  {
   "cell_type": "code",
   "execution_count": 30,
   "metadata": {},
   "outputs": [
    {
     "data": {
      "text/plain": [
       "<AxesSubplot:xlabel='Age', ylabel='NumOfProducts'>"
      ]
     },
     "execution_count": 30,
     "metadata": {},
     "output_type": "execute_result"
    },
    {
     "data": {
      "image/png": "[encoded data removed]",
      "text/plain": [
       "<Figure size 800x600 with 2 Axes>"
      ]
     },
     "metadata": {},
     "output_type": "display_data"
    }
   ],
   "source": [
    "df[['Age', 'NumOfProducts']].plot(x='Age', y='NumOfProducts', kind='hexbin', \\\n",
    "                                  gridsize=20, figsize=(8, 6), sharex=False, grid=True)"
   ]
  },
  {
   "cell_type": "markdown",
   "metadata": {},
   "source": [
    "Подавлюящее количество клиентов в возрасте от 30 до 40 лет пользуются одним или двумя продуктами банка."
   ]
  },
  {
   "cell_type": "markdown",
   "metadata": {},
   "source": [
    "Удалось достичь F1-меры не менее 0,59. Модель прошла тестирование и работает адекватно."
   ]
  },
  {
   "cell_type": "markdown",
   "metadata": {},
   "source": [
    "## Вывод"
   ]
  },
  {
   "cell_type": "markdown",
   "metadata": {},
   "source": [
    "В работу поступила задача от \"Бета-Банка\", из которого ежемесячно стали уходить клиенты. Передо мной стояла задача спрогнозировать уйдет клиент из банка в ближайшее время или не уйдет.\\\n",
    "\\\n",
    "Для решения данной задачи я протестировала три модели: модель решающего дерева, модель случайного леса и модель логистической регрессии. Наилучший результат, т.е. наибольшее значение F1-меры, удалось достичь модели случайного леса на увеличенной выборке. ROC кривая также подтвердила, что модель работает и отличается от случайной. Тестирование модели подтвердило ее работоспособность (F1=0.61 на тестовых данных).\\\n",
    "\\\n",
    "Наибольшее количество клиентов банка - это люди в возрасте от 30 до 40 лет, которые пользуются одним или двумя продуктами банка.\\\n",
    "Наибольшее влияние на решение клиентов уйти или остаться оказали такие факторы как \"NumOfProducts\" (\"Количество продуктов, используемых клиентов\") и \"Age\" (\"Возраст\") клиентов банка."
   ]
  }
 ],
 "metadata": {
  "ExecuteTimeLog": [
   {
    "duration": 334,
    "start_time": "2022-11-21T03:49:59.810Z"
   },
   {
    "duration": 159,
    "start_time": "2022-11-21T03:51:58.632Z"
   },
   {
    "duration": 62,
    "start_time": "2022-11-21T04:00:16.868Z"
   },
   {
    "duration": 9,
    "start_time": "2022-11-21T04:00:26.078Z"
   },
   {
    "duration": 4,
    "start_time": "2022-11-21T04:01:50.981Z"
   },
   {
    "duration": 4,
    "start_time": "2022-11-21T04:12:04.676Z"
   },
   {
    "duration": 4,
    "start_time": "2022-11-21T04:12:08.100Z"
   },
   {
    "duration": 5,
    "start_time": "2022-11-21T04:12:15.939Z"
   },
   {
    "duration": 5,
    "start_time": "2022-11-21T04:12:19.539Z"
   },
   {
    "duration": 17,
    "start_time": "2022-11-21T04:12:26.318Z"
   },
   {
    "duration": 5,
    "start_time": "2022-11-21T04:12:38.935Z"
   },
   {
    "duration": 45,
    "start_time": "2022-11-21T08:44:26.242Z"
   },
   {
    "duration": 410,
    "start_time": "2022-11-21T08:44:37.569Z"
   },
   {
    "duration": 202,
    "start_time": "2022-11-21T08:44:37.982Z"
   },
   {
    "duration": 5,
    "start_time": "2022-11-21T08:44:38.186Z"
   },
   {
    "duration": 32,
    "start_time": "2022-11-21T08:44:38.193Z"
   },
   {
    "duration": 1469,
    "start_time": "2022-11-21T08:44:42.327Z"
   },
   {
    "duration": 1699,
    "start_time": "2022-11-21T08:45:21.142Z"
   },
   {
    "duration": 20,
    "start_time": "2022-11-21T08:45:58.753Z"
   },
   {
    "duration": 5,
    "start_time": "2022-11-21T08:46:58.776Z"
   },
   {
    "duration": 4,
    "start_time": "2022-11-21T08:47:29.387Z"
   },
   {
    "duration": 5,
    "start_time": "2022-11-21T08:48:09.220Z"
   },
   {
    "duration": 70,
    "start_time": "2022-11-21T09:04:09.421Z"
   },
   {
    "duration": 715,
    "start_time": "2022-11-21T09:12:18.887Z"
   },
   {
    "duration": 10,
    "start_time": "2022-11-21T09:13:39.766Z"
   },
   {
    "duration": 8,
    "start_time": "2022-11-21T09:13:49.185Z"
   },
   {
    "duration": 10,
    "start_time": "2022-11-21T09:14:12.036Z"
   },
   {
    "duration": 44,
    "start_time": "2022-11-21T09:19:27.588Z"
   },
   {
    "duration": 2,
    "start_time": "2022-11-21T09:19:33.471Z"
   },
   {
    "duration": 73,
    "start_time": "2022-11-21T09:19:33.477Z"
   },
   {
    "duration": 4,
    "start_time": "2022-11-21T09:19:33.552Z"
   },
   {
    "duration": 25,
    "start_time": "2022-11-21T09:19:33.557Z"
   },
   {
    "duration": 31,
    "start_time": "2022-11-21T09:19:33.584Z"
   },
   {
    "duration": 47,
    "start_time": "2022-11-21T09:19:33.617Z"
   },
   {
    "duration": 9,
    "start_time": "2022-11-21T09:19:37.278Z"
   },
   {
    "duration": 1183,
    "start_time": "2022-11-21T09:19:54.588Z"
   },
   {
    "duration": 12,
    "start_time": "2022-11-21T09:21:35.886Z"
   },
   {
    "duration": 12,
    "start_time": "2022-11-21T09:22:09.114Z"
   },
   {
    "duration": 14,
    "start_time": "2022-11-21T09:34:47.328Z"
   },
   {
    "duration": 13,
    "start_time": "2022-11-21T09:35:39.957Z"
   },
   {
    "duration": 25,
    "start_time": "2022-11-21T09:37:05.353Z"
   },
   {
    "duration": 37,
    "start_time": "2022-11-21T09:39:48.209Z"
   },
   {
    "duration": 46,
    "start_time": "2022-11-21T12:03:50.030Z"
   },
   {
    "duration": 1126,
    "start_time": "2022-11-21T12:03:54.899Z"
   },
   {
    "duration": 188,
    "start_time": "2022-11-21T12:03:56.027Z"
   },
   {
    "duration": 4,
    "start_time": "2022-11-21T12:03:56.217Z"
   },
   {
    "duration": 18,
    "start_time": "2022-11-21T12:03:56.222Z"
   },
   {
    "duration": 9,
    "start_time": "2022-11-21T12:03:56.242Z"
   },
   {
    "duration": 16,
    "start_time": "2022-11-21T12:03:56.252Z"
   },
   {
    "duration": 37,
    "start_time": "2022-11-21T12:03:56.270Z"
   },
   {
    "duration": 521,
    "start_time": "2022-11-21T12:04:01.478Z"
   },
   {
    "duration": 34,
    "start_time": "2022-11-21T12:11:34.131Z"
   },
   {
    "duration": 78,
    "start_time": "2022-11-21T12:12:31.194Z"
   },
   {
    "duration": 22,
    "start_time": "2022-11-21T12:12:59.904Z"
   },
   {
    "duration": 3,
    "start_time": "2022-11-21T12:13:04.208Z"
   },
   {
    "duration": 68,
    "start_time": "2022-11-21T12:13:04.213Z"
   },
   {
    "duration": 4,
    "start_time": "2022-11-21T12:13:04.282Z"
   },
   {
    "duration": 14,
    "start_time": "2022-11-21T12:13:04.288Z"
   },
   {
    "duration": 11,
    "start_time": "2022-11-21T12:13:04.303Z"
   },
   {
    "duration": 26,
    "start_time": "2022-11-21T12:13:04.315Z"
   },
   {
    "duration": 35,
    "start_time": "2022-11-21T12:13:04.342Z"
   },
   {
    "duration": 113,
    "start_time": "2022-11-21T12:13:04.379Z"
   },
   {
    "duration": 19,
    "start_time": "2022-11-21T12:13:07.522Z"
   },
   {
    "duration": 17,
    "start_time": "2022-11-21T12:21:48.009Z"
   },
   {
    "duration": 4,
    "start_time": "2022-11-21T12:22:33.753Z"
   },
   {
    "duration": 19,
    "start_time": "2022-11-21T12:22:47.452Z"
   },
   {
    "duration": 21,
    "start_time": "2022-11-21T12:27:09.743Z"
   },
   {
    "duration": 15,
    "start_time": "2022-11-21T12:27:25.092Z"
   },
   {
    "duration": 15,
    "start_time": "2022-11-21T12:27:40.749Z"
   },
   {
    "duration": 45,
    "start_time": "2022-11-21T12:28:39.607Z"
   },
   {
    "duration": 109,
    "start_time": "2022-11-21T12:28:51.380Z"
   },
   {
    "duration": 73,
    "start_time": "2022-11-21T12:28:55.910Z"
   },
   {
    "duration": 4,
    "start_time": "2022-11-21T12:29:19.825Z"
   },
   {
    "duration": 62,
    "start_time": "2022-11-21T12:29:28.603Z"
   },
   {
    "duration": 51,
    "start_time": "2022-11-22T03:39:34.581Z"
   },
   {
    "duration": 13,
    "start_time": "2022-11-22T03:39:41.884Z"
   },
   {
    "duration": 1144,
    "start_time": "2022-11-22T03:39:43.884Z"
   },
   {
    "duration": 195,
    "start_time": "2022-11-22T03:39:45.030Z"
   },
   {
    "duration": 5,
    "start_time": "2022-11-22T03:39:45.226Z"
   },
   {
    "duration": 9,
    "start_time": "2022-11-22T03:39:45.234Z"
   },
   {
    "duration": 7,
    "start_time": "2022-11-22T03:39:45.245Z"
   },
   {
    "duration": 23,
    "start_time": "2022-11-22T03:39:45.253Z"
   },
   {
    "duration": 40,
    "start_time": "2022-11-22T03:39:45.278Z"
   },
   {
    "duration": 14,
    "start_time": "2022-11-22T03:41:22.841Z"
   },
   {
    "duration": 29,
    "start_time": "2022-11-22T03:41:25.050Z"
   },
   {
    "duration": 597,
    "start_time": "2022-11-22T03:43:47.591Z"
   },
   {
    "duration": 136,
    "start_time": "2022-11-22T03:47:34.441Z"
   },
   {
    "duration": 2784,
    "start_time": "2022-11-22T03:48:15.330Z"
   },
   {
    "duration": 2733,
    "start_time": "2022-11-22T03:48:45.927Z"
   },
   {
    "duration": 2640,
    "start_time": "2022-11-22T03:48:57.099Z"
   },
   {
    "duration": 11,
    "start_time": "2022-11-22T03:49:46.717Z"
   },
   {
    "duration": 4,
    "start_time": "2022-11-22T03:50:09.972Z"
   },
   {
    "duration": 136,
    "start_time": "2022-11-22T03:50:16.154Z"
   },
   {
    "duration": 13,
    "start_time": "2022-11-22T03:54:59.284Z"
   },
   {
    "duration": 14,
    "start_time": "2022-11-22T03:55:31.327Z"
   },
   {
    "duration": 2534,
    "start_time": "2022-11-22T03:55:36.238Z"
   },
   {
    "duration": 1454,
    "start_time": "2022-11-22T04:01:17.271Z"
   },
   {
    "duration": 68,
    "start_time": "2022-11-22T04:01:18.727Z"
   },
   {
    "duration": 4,
    "start_time": "2022-11-22T04:01:18.797Z"
   },
   {
    "duration": 14,
    "start_time": "2022-11-22T04:01:18.803Z"
   },
   {
    "duration": 125,
    "start_time": "2022-11-22T04:01:18.819Z"
   },
   {
    "duration": 0,
    "start_time": "2022-11-22T04:01:18.945Z"
   },
   {
    "duration": 0,
    "start_time": "2022-11-22T04:01:18.950Z"
   },
   {
    "duration": 0,
    "start_time": "2022-11-22T04:01:18.952Z"
   },
   {
    "duration": 0,
    "start_time": "2022-11-22T04:01:18.953Z"
   },
   {
    "duration": 0,
    "start_time": "2022-11-22T04:01:18.955Z"
   },
   {
    "duration": 0,
    "start_time": "2022-11-22T04:01:18.956Z"
   },
   {
    "duration": 0,
    "start_time": "2022-11-22T04:01:18.957Z"
   },
   {
    "duration": 130,
    "start_time": "2022-11-22T04:02:04.887Z"
   },
   {
    "duration": 4,
    "start_time": "2022-11-22T04:02:19.509Z"
   },
   {
    "duration": 87,
    "start_time": "2022-11-22T04:02:19.515Z"
   },
   {
    "duration": 5,
    "start_time": "2022-11-22T04:02:19.604Z"
   },
   {
    "duration": 36,
    "start_time": "2022-11-22T04:02:19.613Z"
   },
   {
    "duration": 3,
    "start_time": "2022-11-22T04:02:46.855Z"
   },
   {
    "duration": 63,
    "start_time": "2022-11-22T04:02:46.860Z"
   },
   {
    "duration": 4,
    "start_time": "2022-11-22T04:02:46.924Z"
   },
   {
    "duration": 7,
    "start_time": "2022-11-22T04:02:46.930Z"
   },
   {
    "duration": 119,
    "start_time": "2022-11-22T04:02:46.939Z"
   },
   {
    "duration": 5,
    "start_time": "2022-11-22T04:02:47.060Z"
   },
   {
    "duration": 22,
    "start_time": "2022-11-22T04:02:47.067Z"
   },
   {
    "duration": 13,
    "start_time": "2022-11-22T04:02:47.091Z"
   },
   {
    "duration": 63,
    "start_time": "2022-11-22T04:02:47.106Z"
   },
   {
    "duration": 2704,
    "start_time": "2022-11-22T04:02:47.171Z"
   },
   {
    "duration": 133,
    "start_time": "2022-11-22T04:02:49.877Z"
   },
   {
    "duration": 89788,
    "start_time": "2022-11-22T04:02:58.944Z"
   },
   {
    "duration": 198567,
    "start_time": "2022-11-22T04:06:12.865Z"
   },
   {
    "duration": 201,
    "start_time": "2022-11-22T04:12:51.159Z"
   },
   {
    "duration": 30,
    "start_time": "2022-11-22T04:21:14.319Z"
   },
   {
    "duration": 48,
    "start_time": "2022-11-22T08:14:06.782Z"
   },
   {
    "duration": 9,
    "start_time": "2022-11-22T08:14:11.874Z"
   },
   {
    "duration": 1646,
    "start_time": "2022-11-22T08:14:15.378Z"
   },
   {
    "duration": 105,
    "start_time": "2022-11-22T08:14:17.026Z"
   },
   {
    "duration": 4,
    "start_time": "2022-11-22T08:14:17.133Z"
   },
   {
    "duration": 9,
    "start_time": "2022-11-22T08:14:17.139Z"
   },
   {
    "duration": 131,
    "start_time": "2022-11-22T08:14:17.149Z"
   },
   {
    "duration": 17,
    "start_time": "2022-11-22T08:14:17.282Z"
   },
   {
    "duration": 20,
    "start_time": "2022-11-22T08:14:17.300Z"
   },
   {
    "duration": 12,
    "start_time": "2022-11-22T08:14:17.322Z"
   },
   {
    "duration": 28,
    "start_time": "2022-11-22T08:14:17.336Z"
   },
   {
    "duration": 2530,
    "start_time": "2022-11-22T08:14:17.366Z"
   },
   {
    "duration": 129,
    "start_time": "2022-11-22T08:14:19.898Z"
   },
   {
    "duration": 15,
    "start_time": "2022-11-22T08:18:12.966Z"
   },
   {
    "duration": 92,
    "start_time": "2022-11-22T08:18:12.983Z"
   },
   {
    "duration": 156,
    "start_time": "2022-11-22T08:18:13.077Z"
   },
   {
    "duration": 5,
    "start_time": "2022-11-22T08:18:13.235Z"
   },
   {
    "duration": 28,
    "start_time": "2022-11-22T08:18:13.242Z"
   },
   {
    "duration": 65,
    "start_time": "2022-11-22T08:18:13.273Z"
   },
   {
    "duration": 102,
    "start_time": "2022-11-22T08:18:13.340Z"
   },
   {
    "duration": 2541,
    "start_time": "2022-11-22T08:18:13.444Z"
   },
   {
    "duration": 153,
    "start_time": "2022-11-22T08:18:15.987Z"
   },
   {
    "duration": 5718,
    "start_time": "2022-11-22T08:18:16.142Z"
   },
   {
    "duration": 239,
    "start_time": "2022-11-22T08:18:21.861Z"
   },
   {
    "duration": 208,
    "start_time": "2022-11-22T08:18:22.103Z"
   },
   {
    "duration": 0,
    "start_time": "2022-11-22T08:18:22.312Z"
   },
   {
    "duration": 0,
    "start_time": "2022-11-22T08:18:22.313Z"
   },
   {
    "duration": 5,
    "start_time": "2022-11-22T08:19:03.139Z"
   },
   {
    "duration": 22,
    "start_time": "2022-11-22T08:19:10.816Z"
   },
   {
    "duration": 25076,
    "start_time": "2022-11-22T08:20:51.961Z"
   },
   {
    "duration": 7613,
    "start_time": "2022-11-22T08:22:43.924Z"
   },
   {
    "duration": 13,
    "start_time": "2022-11-22T08:33:41.705Z"
   },
   {
    "duration": 40,
    "start_time": "2022-11-22T08:34:29.455Z"
   },
   {
    "duration": 3741,
    "start_time": "2022-11-22T08:35:17.901Z"
   },
   {
    "duration": 3,
    "start_time": "2022-11-22T08:45:16.531Z"
   },
   {
    "duration": 68,
    "start_time": "2022-11-22T08:45:16.536Z"
   },
   {
    "duration": 3,
    "start_time": "2022-11-22T08:45:16.606Z"
   },
   {
    "duration": 8,
    "start_time": "2022-11-22T08:45:16.611Z"
   },
   {
    "duration": 128,
    "start_time": "2022-11-22T08:45:16.621Z"
   },
   {
    "duration": 5,
    "start_time": "2022-11-22T08:45:16.751Z"
   },
   {
    "duration": 17,
    "start_time": "2022-11-22T08:45:16.758Z"
   },
   {
    "duration": 27,
    "start_time": "2022-11-22T08:45:16.777Z"
   },
   {
    "duration": 29,
    "start_time": "2022-11-22T08:45:16.806Z"
   },
   {
    "duration": 1704,
    "start_time": "2022-11-22T08:45:16.837Z"
   },
   {
    "duration": 135,
    "start_time": "2022-11-22T08:45:18.542Z"
   },
   {
    "duration": 21330,
    "start_time": "2022-11-22T08:45:18.679Z"
   },
   {
    "duration": 1187,
    "start_time": "2022-11-22T08:45:40.011Z"
   },
   {
    "duration": 107,
    "start_time": "2022-11-22T08:45:41.199Z"
   },
   {
    "duration": 6510,
    "start_time": "2022-11-22T08:45:41.308Z"
   },
   {
    "duration": 14,
    "start_time": "2022-11-22T08:45:47.820Z"
   },
   {
    "duration": 3408,
    "start_time": "2022-11-22T08:45:47.836Z"
   },
   {
    "duration": 6,
    "start_time": "2022-11-22T09:04:12.799Z"
   },
   {
    "duration": 12,
    "start_time": "2022-11-22T09:04:36.409Z"
   },
   {
    "duration": 5,
    "start_time": "2022-11-22T09:04:41.827Z"
   },
   {
    "duration": 5,
    "start_time": "2022-11-22T09:05:01.177Z"
   },
   {
    "duration": 3,
    "start_time": "2022-11-22T09:05:19.122Z"
   },
   {
    "duration": 116,
    "start_time": "2022-11-22T09:06:43.921Z"
   },
   {
    "duration": 4,
    "start_time": "2022-11-22T09:24:23.892Z"
   },
   {
    "duration": 125,
    "start_time": "2022-11-22T09:25:56.834Z"
   },
   {
    "duration": 4,
    "start_time": "2022-11-22T09:26:30.834Z"
   },
   {
    "duration": 127,
    "start_time": "2022-11-22T09:27:34.704Z"
   },
   {
    "duration": 21228,
    "start_time": "2022-11-22T09:33:48.910Z"
   },
   {
    "duration": 131,
    "start_time": "2022-11-22T09:34:27.465Z"
   },
   {
    "duration": 1365,
    "start_time": "2022-11-22T09:35:08.241Z"
   },
   {
    "duration": 285,
    "start_time": "2022-11-22T09:35:15.712Z"
   },
   {
    "duration": 48,
    "start_time": "2022-11-22T09:37:50.612Z"
   },
   {
    "duration": 1360,
    "start_time": "2022-11-22T09:38:45.093Z"
   },
   {
    "duration": 99,
    "start_time": "2022-11-22T09:38:46.456Z"
   },
   {
    "duration": 5,
    "start_time": "2022-11-22T09:38:46.557Z"
   },
   {
    "duration": 15,
    "start_time": "2022-11-22T09:38:46.565Z"
   },
   {
    "duration": 139,
    "start_time": "2022-11-22T09:38:46.582Z"
   },
   {
    "duration": 5,
    "start_time": "2022-11-22T09:38:46.722Z"
   },
   {
    "duration": 17,
    "start_time": "2022-11-22T09:38:46.729Z"
   },
   {
    "duration": 11,
    "start_time": "2022-11-22T09:38:46.748Z"
   },
   {
    "duration": 50,
    "start_time": "2022-11-22T09:38:46.760Z"
   },
   {
    "duration": 1670,
    "start_time": "2022-11-22T09:38:46.812Z"
   },
   {
    "duration": 119,
    "start_time": "2022-11-22T09:38:48.483Z"
   },
   {
    "duration": 137,
    "start_time": "2022-11-22T09:38:48.603Z"
   },
   {
    "duration": 21083,
    "start_time": "2022-11-22T09:38:48.741Z"
   },
   {
    "duration": 142,
    "start_time": "2022-11-22T09:39:09.826Z"
   },
   {
    "duration": 1335,
    "start_time": "2022-11-22T09:39:09.970Z"
   },
   {
    "duration": 365,
    "start_time": "2022-11-22T09:39:11.398Z"
   },
   {
    "duration": 14,
    "start_time": "2022-11-22T09:39:11.765Z"
   },
   {
    "duration": 6407,
    "start_time": "2022-11-22T09:39:11.780Z"
   },
   {
    "duration": 18,
    "start_time": "2022-11-22T09:39:18.189Z"
   },
   {
    "duration": 3326,
    "start_time": "2022-11-22T09:39:18.209Z"
   },
   {
    "duration": 6,
    "start_time": "2022-11-22T09:39:21.537Z"
   },
   {
    "duration": 10,
    "start_time": "2022-11-22T09:39:21.544Z"
   },
   {
    "duration": 116,
    "start_time": "2022-11-22T09:39:21.556Z"
   },
   {
    "duration": 1507,
    "start_time": "2022-11-23T03:29:06.627Z"
   },
   {
    "duration": 192,
    "start_time": "2022-11-23T03:29:10.562Z"
   },
   {
    "duration": 4,
    "start_time": "2022-11-23T03:29:13.860Z"
   },
   {
    "duration": 99,
    "start_time": "2022-11-23T03:29:23.050Z"
   },
   {
    "duration": 3,
    "start_time": "2022-11-23T03:29:42.335Z"
   },
   {
    "duration": 5,
    "start_time": "2022-11-23T03:29:46.397Z"
   },
   {
    "duration": 4,
    "start_time": "2022-11-23T03:42:13.174Z"
   },
   {
    "duration": 60,
    "start_time": "2022-11-23T03:42:13.181Z"
   },
   {
    "duration": 4,
    "start_time": "2022-11-23T03:42:13.243Z"
   },
   {
    "duration": 7,
    "start_time": "2022-11-23T03:42:13.249Z"
   },
   {
    "duration": 146,
    "start_time": "2022-11-23T03:42:13.257Z"
   },
   {
    "duration": 5,
    "start_time": "2022-11-23T03:42:13.404Z"
   },
   {
    "duration": 15,
    "start_time": "2022-11-23T03:42:13.422Z"
   },
   {
    "duration": 12,
    "start_time": "2022-11-23T03:42:13.439Z"
   },
   {
    "duration": 29,
    "start_time": "2022-11-23T03:42:13.454Z"
   },
   {
    "duration": 1692,
    "start_time": "2022-11-23T03:42:13.485Z"
   },
   {
    "duration": 122,
    "start_time": "2022-11-23T03:42:15.178Z"
   },
   {
    "duration": 135,
    "start_time": "2022-11-23T03:42:15.301Z"
   },
   {
    "duration": 20271,
    "start_time": "2022-11-23T03:42:15.438Z"
   },
   {
    "duration": 132,
    "start_time": "2022-11-23T03:42:35.711Z"
   },
   {
    "duration": 878,
    "start_time": "2022-11-23T03:42:35.845Z"
   },
   {
    "duration": 300,
    "start_time": "2022-11-23T03:42:36.725Z"
   },
   {
    "duration": 13,
    "start_time": "2022-11-23T03:42:37.026Z"
   },
   {
    "duration": 6063,
    "start_time": "2022-11-23T03:42:37.041Z"
   },
   {
    "duration": 132,
    "start_time": "2022-11-23T03:42:43.106Z"
   },
   {
    "duration": 13,
    "start_time": "2022-11-23T03:42:43.240Z"
   },
   {
    "duration": 3210,
    "start_time": "2022-11-23T03:42:43.255Z"
   },
   {
    "duration": 132,
    "start_time": "2022-11-23T03:42:46.467Z"
   },
   {
    "duration": 6,
    "start_time": "2022-11-23T03:42:46.600Z"
   },
   {
    "duration": 4,
    "start_time": "2022-11-23T03:42:46.624Z"
   },
   {
    "duration": 110,
    "start_time": "2022-11-23T03:42:46.630Z"
   },
   {
    "duration": 105,
    "start_time": "2022-11-23T03:48:12.802Z"
   },
   {
    "duration": 129,
    "start_time": "2022-11-23T03:48:19.058Z"
   },
   {
    "duration": 15,
    "start_time": "2022-11-23T03:54:18.600Z"
   },
   {
    "duration": 13,
    "start_time": "2022-11-23T03:54:52.463Z"
   },
   {
    "duration": 163,
    "start_time": "2022-11-23T03:55:17.378Z"
   },
   {
    "duration": 179,
    "start_time": "2022-11-23T04:01:27.316Z"
   },
   {
    "duration": 166,
    "start_time": "2022-11-23T04:01:38.891Z"
   },
   {
    "duration": 1381,
    "start_time": "2022-11-23T04:37:47.597Z"
   },
   {
    "duration": 69,
    "start_time": "2022-11-23T04:37:48.980Z"
   },
   {
    "duration": 5,
    "start_time": "2022-11-23T04:37:49.051Z"
   },
   {
    "duration": 20,
    "start_time": "2022-11-23T04:37:49.059Z"
   },
   {
    "duration": 156,
    "start_time": "2022-11-23T04:37:49.081Z"
   },
   {
    "duration": 5,
    "start_time": "2022-11-23T04:37:49.239Z"
   },
   {
    "duration": 20,
    "start_time": "2022-11-23T04:37:49.245Z"
   },
   {
    "duration": 13,
    "start_time": "2022-11-23T04:37:49.267Z"
   },
   {
    "duration": 62,
    "start_time": "2022-11-23T04:37:49.282Z"
   },
   {
    "duration": 1582,
    "start_time": "2022-11-23T04:37:49.347Z"
   },
   {
    "duration": 124,
    "start_time": "2022-11-23T04:37:50.931Z"
   },
   {
    "duration": 134,
    "start_time": "2022-11-23T04:37:51.056Z"
   },
   {
    "duration": 20321,
    "start_time": "2022-11-23T04:37:51.191Z"
   },
   {
    "duration": 139,
    "start_time": "2022-11-23T04:38:11.513Z"
   },
   {
    "duration": 1072,
    "start_time": "2022-11-23T04:38:11.653Z"
   },
   {
    "duration": 338,
    "start_time": "2022-11-23T04:38:12.727Z"
   },
   {
    "duration": 13,
    "start_time": "2022-11-23T04:38:13.067Z"
   },
   {
    "duration": 6432,
    "start_time": "2022-11-23T04:38:13.082Z"
   },
   {
    "duration": 132,
    "start_time": "2022-11-23T04:38:19.516Z"
   },
   {
    "duration": 12,
    "start_time": "2022-11-23T04:38:19.649Z"
   },
   {
    "duration": 3249,
    "start_time": "2022-11-23T04:38:19.663Z"
   },
   {
    "duration": 134,
    "start_time": "2022-11-23T04:38:22.914Z"
   },
   {
    "duration": 7,
    "start_time": "2022-11-23T04:38:23.049Z"
   },
   {
    "duration": 9,
    "start_time": "2022-11-23T04:38:23.058Z"
   },
   {
    "duration": 115,
    "start_time": "2022-11-23T04:38:23.068Z"
   },
   {
    "duration": 135,
    "start_time": "2022-11-23T04:38:23.185Z"
   },
   {
    "duration": 164,
    "start_time": "2022-11-23T04:38:23.322Z"
   },
   {
    "duration": 135,
    "start_time": "2022-11-23T04:56:31.994Z"
   },
   {
    "duration": 136,
    "start_time": "2022-11-23T05:00:08.734Z"
   },
   {
    "duration": 292,
    "start_time": "2022-11-23T05:01:30.305Z"
   },
   {
    "duration": 197,
    "start_time": "2022-11-23T05:02:37.448Z"
   },
   {
    "duration": 190,
    "start_time": "2022-11-23T05:07:10.228Z"
   },
   {
    "duration": 1678,
    "start_time": "2023-02-13T11:44:56.710Z"
   },
   {
    "duration": 191,
    "start_time": "2023-02-13T11:44:58.391Z"
   },
   {
    "duration": 5,
    "start_time": "2023-02-13T11:44:58.585Z"
   },
   {
    "duration": 8,
    "start_time": "2023-02-13T11:44:58.593Z"
   },
   {
    "duration": 138,
    "start_time": "2023-02-13T11:44:58.603Z"
   },
   {
    "duration": 6,
    "start_time": "2023-02-13T11:44:58.743Z"
   },
   {
    "duration": 16,
    "start_time": "2023-02-13T11:44:58.751Z"
   },
   {
    "duration": 28,
    "start_time": "2023-02-13T11:44:58.769Z"
   },
   {
    "duration": 29,
    "start_time": "2023-02-13T11:44:58.798Z"
   },
   {
    "duration": 1744,
    "start_time": "2023-02-13T11:44:58.830Z"
   },
   {
    "duration": 138,
    "start_time": "2023-02-13T11:45:00.576Z"
   },
   {
    "duration": 155,
    "start_time": "2023-02-13T11:45:00.716Z"
   },
   {
    "duration": 23031,
    "start_time": "2023-02-13T11:45:00.873Z"
   },
   {
    "duration": 145,
    "start_time": "2023-02-13T11:45:23.906Z"
   },
   {
    "duration": 853,
    "start_time": "2023-02-13T11:45:24.053Z"
   },
   {
    "duration": 384,
    "start_time": "2023-02-13T11:45:24.910Z"
   },
   {
    "duration": 16,
    "start_time": "2023-02-13T11:45:25.295Z"
   },
   {
    "duration": 6999,
    "start_time": "2023-02-13T11:45:25.313Z"
   },
   {
    "duration": 157,
    "start_time": "2023-02-13T11:45:32.314Z"
   },
   {
    "duration": 26,
    "start_time": "2023-02-13T11:45:32.473Z"
   },
   {
    "duration": 3526,
    "start_time": "2023-02-13T11:45:32.501Z"
   },
   {
    "duration": 193,
    "start_time": "2023-02-13T11:45:36.030Z"
   },
   {
    "duration": 8,
    "start_time": "2023-02-13T11:45:36.225Z"
   },
   {
    "duration": 32,
    "start_time": "2023-02-13T11:45:36.235Z"
   },
   {
    "duration": 115,
    "start_time": "2023-02-13T11:45:36.269Z"
   },
   {
    "duration": 194,
    "start_time": "2023-02-13T11:45:36.385Z"
   },
   {
    "duration": 194,
    "start_time": "2023-02-13T11:45:36.581Z"
   },
   {
    "duration": 175,
    "start_time": "2023-02-13T11:45:36.779Z"
   },
   {
    "duration": 149,
    "start_time": "2023-02-13T11:45:36.956Z"
   },
   {
    "duration": 257,
    "start_time": "2023-02-13T11:45:37.107Z"
   }
  ],
  "kernelspec": {
   "display_name": "Python 3 (ipykernel)",
   "language": "python",
   "name": "python3"
  },
  "language_info": {
   "codemirror_mode": {
    "name": "ipython",
    "version": 3
   },
   "file_extension": ".py",
   "mimetype": "text/x-python",
   "name": "python",
   "nbconvert_exporter": "python",
   "pygments_lexer": "ipython3",
   "version": "3.9.13"
  },
  "toc": {
   "base_numbering": 1,
   "nav_menu": {},
   "number_sections": true,
   "sideBar": true,
   "skip_h1_title": true,
   "title_cell": "Содержание",
   "title_sidebar": "Contents",
   "toc_cell": true,
   "toc_position": {},
   "toc_section_display": true,
   "toc_window_display": true
  }
 },
 "nbformat": 4,
 "nbformat_minor": 2
}
